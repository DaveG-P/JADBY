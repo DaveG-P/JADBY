{
 "cells": [
  {
   "cell_type": "code",
   "execution_count": 13,
   "metadata": {},
   "outputs": [],
   "source": [
    "#imported national park database\n",
    "import urllib.request, json\n",
    "import requests\n",
    "# Configure API request\n",
    "endpoint = \"https://developer.nps.gov/api/v1/parks?stateCode=ca&q=Cabrillo&api_key=01eq5duLdK1dQqdvhfwlrUouoTSqL8LKKK45w2F8\""
   ]
  },
  {
   "cell_type": "code",
   "execution_count": 14,
   "metadata": {},
   "outputs": [
    {
     "data": {
      "text/plain": [
       "'https://developer.nps.gov/api/v1/parks?stateCode=ca&q=Cabrillo&api_key=01eq5duLdK1dQqdvhfwlrUouoTSqL8LKKK45w2F8'"
      ]
     },
     "execution_count": 14,
     "metadata": {},
     "output_type": "execute_result"
    }
   ],
   "source": [
    "endpoint"
   ]
  },
  {
   "cell_type": "code",
   "execution_count": 15,
   "metadata": {},
   "outputs": [
    {
     "name": "stdout",
     "output_type": "stream",
     "text": [
      "{\n",
      "    \"data\": [\n",
      "        {\n",
      "            \"description\": \"Climbing out of his boat and onto shore in 1542, Juan Rodriguez Cabrillo stepped into history as the first European to set foot on what is now the West Coast of the United States. In addition to telling the story of 16th century exploration, the park is home to a wealth of cultural and natural resources. Join us and embark on your own Voyage of Discovery.\",\n",
      "            \"designation\": \"National Monument\",\n",
      "            \"directionsInfo\": \"FROM DOWNTOWN SAN DIEGO\\n\\nTake Harbor Drive past the airport\\nTurn left onto Rosecrans Street\\nTurn right onto Canon Street\\nTurn left onto Catalina Blvd. (also known as Cabrillo Memorial Drive)\\nFollow Catalina Blvd. all the way to the end\",\n",
      "            \"directionsUrl\": \"http://www.nps.gov/cabr/planyourvisit/directionstocabr.htm\",\n",
      "            \"fullName\": \"Cabrillo National Monument\",\n",
      "            \"id\": \"2DB09FB7-0408-44C9-8083-8F50039BD6DA\",\n",
      "            \"latLong\": \"lat:32.6722503, long:-117.2415985\",\n",
      "            \"name\": \"Cabrillo\",\n",
      "            \"parkCode\": \"cabr\",\n",
      "            \"states\": \"CA\",\n",
      "            \"url\": \"https://www.nps.gov/cabr/index.htm\",\n",
      "            \"weatherInfo\": \"Near Perfection\\nAlmost three million county residents can't be wrong: it's the weather. While many areas of the country are hibernating under blankets of snow or sweltering in muggy mid-summer humidity, San Diego's climate is generally sunny and mild year-round.\"\n",
      "        }\n",
      "    ],\n",
      "    \"limit\": 50.0,\n",
      "    \"start\": 1.0,\n",
      "    \"total\": 1\n",
      "}\n"
     ]
    }
   ],
   "source": [
    "req = requests.get(endpoint).json()\n",
    "req\n",
    "\n",
    "print(json.dumps(req, indent=4, sort_keys=True))"
   ]
  },
  {
   "cell_type": "code",
   "execution_count": 16,
   "metadata": {},
   "outputs": [
    {
     "data": {
      "text/plain": [
       "'lat:32.6722503, long:-117.2415985'"
      ]
     },
     "execution_count": 16,
     "metadata": {},
     "output_type": "execute_result"
    }
   ],
   "source": [
    "lat = req[\"data\"][0]['latLong']\n",
    "lat\n",
    "#lng = req[\"results\"][0][\"geometry\"][\"location\"][\"lng\"]"
   ]
  },
  {
   "cell_type": "code",
   "execution_count": null,
   "metadata": {},
   "outputs": [],
   "source": []
  }
 ],
 "metadata": {
  "kernelspec": {
   "display_name": "Python 3",
   "language": "python",
   "name": "python3"
  },
  "language_info": {
   "codemirror_mode": {
    "name": "ipython",
    "version": 3
   },
   "file_extension": ".py",
   "mimetype": "text/x-python",
   "name": "python",
   "nbconvert_exporter": "python",
   "pygments_lexer": "ipython3",
   "version": "3.6.5"
  }
 },
 "nbformat": 4,
 "nbformat_minor": 2
}
